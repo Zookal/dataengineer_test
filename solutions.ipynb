{
 "cells": [
  {
   "cell_type": "markdown",
   "metadata": {},
   "source": [
    "# Solutions to Cooee, Inc.'s data engineering test\n",
    "\n",
    "Jessan Rendell G. Belenzo  \n",
    "December 10, 2021"
   ]
  },
  {
   "cell_type": "markdown",
   "metadata": {},
   "source": [
    "<br>"
   ]
  },
  {
   "cell_type": "markdown",
   "metadata": {},
   "source": [
    "## Importing the dependencies"
   ]
  },
  {
   "cell_type": "code",
   "execution_count": 118,
   "metadata": {},
   "outputs": [],
   "source": [
    "import csv\n",
    "import io\n",
    "import sqlite3\n",
    "import zipfile"
   ]
  },
  {
   "cell_type": "markdown",
   "metadata": {},
   "source": [
    "<br>"
   ]
  },
  {
   "cell_type": "markdown",
   "metadata": {},
   "source": [
    "## Loading the data into the database"
   ]
  },
  {
   "cell_type": "markdown",
   "metadata": {},
   "source": [
    "#### 1. Describe the file format of `data.zip`\n",
    "\n",
    "The compressed ZIP file contains 8 tables in TBL format: `supplier.tbl`, `region.tbl`, `partsupp.tbl`, `part.tbl`, `orders.tbl`, `nation.tbl`, `lineitem.tbl`, and `customer.tbl`. The TBL files correspond to the 8 entities illustrated in the entity relationship diagram (ERD). Each TBL file comprises rows with vertical bar-separated values. The columns in each file also align with those shown in the ERD."
   ]
  },
  {
   "cell_type": "markdown",
   "metadata": {},
   "source": [
    "<br>"
   ]
  },
  {
   "cell_type": "markdown",
   "metadata": {},
   "source": [
    "#### 2. Design a star schema model into which the data should flow"
   ]
  },
  {
   "cell_type": "code",
   "execution_count": 119,
   "metadata": {},
   "outputs": [
    {
     "data": {
      "text/plain": [
       "<sqlite3.Cursor at 0x21574986ea0>"
      ]
     },
     "execution_count": 119,
     "metadata": {},
     "output_type": "execute_result"
    }
   ],
   "source": [
    "con = sqlite3.connect('database.db')\n",
    "cur = con.cursor()\n",
    "\n",
    "# Region\n",
    "cur.execute(\n",
    "    \"\"\"\n",
    "    CREATE TABLE Region (\n",
    "        r_regionkey INTEGER,\n",
    "        r_name TEXT,\n",
    "        r_comment TEXT,\n",
    "        PRIMARY KEY (r_regionkey)\n",
    "    );\n",
    "    \"\"\"\n",
    ")\n",
    "\n",
    "# Nation\n",
    "cur.execute(\n",
    "    \"\"\"\n",
    "    CREATE TABLE Nation (\n",
    "        n_nationkey INTEGER,\n",
    "        n_name TEXT,\n",
    "        n_regionkey INTEGER,\n",
    "        n_comment TEXT,\n",
    "        PRIMARY KEY (n_nationkey),\n",
    "        FOREIGN KEY (n_regionkey) REFERENCES Region (r_regionkey)\n",
    "    );\n",
    "    \"\"\"\n",
    ")\n",
    "\n",
    "# Part\n",
    "cur.execute(\n",
    "    \"\"\"\n",
    "    CREATE TABLE Part (\n",
    "        p_partkey INTEGER,\n",
    "        p_name TEXT,\n",
    "        p_mfgr TEXT,\n",
    "        p_brand TEXT,\n",
    "        p_type TEXT,\n",
    "        p_size INTEGER,\n",
    "        p_container TEXT,\n",
    "        p_retailprice NUMERIC,\n",
    "        p_comment TEXT,\n",
    "        PRIMARY KEY (p_partkey)\n",
    "    );\n",
    "    \"\"\"\n",
    ")\n",
    "\n",
    "# Customer\n",
    "# Added a field to classify customers into 3 classes according to their account balance:\n",
    "# - `5K AND ABOVE`\n",
    "# - `0 AND ABOVE`\n",
    "# - `LESS THAN 0`\n",
    "cur.execute(\n",
    "    \"\"\"\n",
    "    CREATE TABLE Customer (\n",
    "        c_custkey INTEGER,\n",
    "        c_name TEXT,\n",
    "        c_address TEXT,\n",
    "        c_nationkey INTEGER,\n",
    "        c_phone TEXT,\n",
    "        c_acctbal NUMERIC,\n",
    "        c_class TEXT,\n",
    "        c_mktsegment TEXT,\n",
    "        c_comment TEXT,\n",
    "        PRIMARY KEY (c_custkey),\n",
    "        FOREIGN KEY (c_nationkey) REFERENCES Nation (n_nationkey)\n",
    "    );\n",
    "    \"\"\"\n",
    ")\n",
    "\n",
    "# Supplier\n",
    "cur.execute(\n",
    "    \"\"\"\n",
    "    CREATE TABLE Supplier (\n",
    "        s_suppkey INTEGER,\n",
    "        s_name TEXT,\n",
    "        s_address TEXT,\n",
    "        s_nationkey INTEGER,\n",
    "        s_phone TEXT,\n",
    "        s_acctbal NUMERIC,\n",
    "        s_comment TEXT,\n",
    "        PRIMARY KEY (s_suppkey),\n",
    "        FOREIGN KEY (s_nationkey) REFERENCES Nation (n_nationkey)\n",
    "    );\n",
    "    \"\"\"\n",
    ")\n",
    "\n",
    "# Orders\n",
    "cur.execute(\n",
    "    \"\"\"\n",
    "    CREATE TABLE Orders (\n",
    "        o_orderkey INTEGER,\n",
    "        o_custkey INTEGER,\n",
    "        o_orderstatus TEXT,\n",
    "        o_totalprice NUMERIC,\n",
    "        o_orderdate DATE,\n",
    "        o_orderpriority TEXT,\n",
    "        o_clerk TEXT,\n",
    "        o_shippriority INTEGER,\n",
    "        o_comment TEXT,\n",
    "        PRIMARY KEY (o_orderkey),\n",
    "        FOREIGN KEY (o_custkey) REFERENCES Customer (c_custkey)\n",
    "    );\n",
    "    \"\"\"\n",
    ")\n",
    "\n",
    "# Partsupp\n",
    "cur.execute(\n",
    "    \"\"\"\n",
    "    CREATE TABLE Partsupp (\n",
    "        ps_id INTEGER,\n",
    "        ps_partkey INTEGER,\n",
    "        ps_suppkey INTEGER,\n",
    "        ps_availqty INTEGER,\n",
    "        ps_supplycost NUMERIC,\n",
    "        ps_comment TEXT,\n",
    "        PRIMARY KEY (ps_id),\n",
    "        FOREIGN KEY (ps_partkey) REFERENCES Part (p_partkey),\n",
    "        FOREIGN KEY (ps_suppkey) REFERENCES Supplier (s_suppkey)\n",
    "    );\n",
    "    \"\"\"\n",
    ")\n",
    "\n",
    "# Lineitem\n",
    "# Added a field called `l_revenue`, the computed extended amount per line item\n",
    "cur.execute(\n",
    "    \"\"\"\n",
    "    CREATE TABLE Lineitem (\n",
    "        l_id INTEGER,\n",
    "        l_orderkey INTEGER,\n",
    "        l_ps_id INTEGER,\n",
    "        l_linenumber INTEGER,\n",
    "        l_quantity INTEGER,\n",
    "        l_extendedprice NUMERIC,\n",
    "        l_discount NUMERIC,\n",
    "        l_tax NUMERIC,\n",
    "        l_revenue NUMERIC,\n",
    "        l_returnflag TEXT,\n",
    "        l_linestatus TEXT,\n",
    "        l_shipdate DATE,\n",
    "        l_commitdate DATE,\n",
    "        l_receiptdate DATE,\n",
    "        l_shipinstruct TEXT,\n",
    "        l_shipmode TEXT,\n",
    "        l_comment TEXT,\n",
    "        FOREIGN KEY (l_orderkey) REFERENCES Orders (o_orderkey),\n",
    "        FOREIGN KEY (l_ps_id) REFERENCES Partsupp (ps_id)\n",
    "    );\n",
    "    \"\"\"\n",
    ")"
   ]
  },
  {
   "cell_type": "markdown",
   "metadata": {},
   "source": [
    "<br>"
   ]
  },
  {
   "cell_type": "markdown",
   "metadata": {},
   "source": [
    "#### 3. Load the data into the star schema"
   ]
  },
  {
   "cell_type": "code",
   "execution_count": 120,
   "metadata": {},
   "outputs": [],
   "source": [
    "with zipfile.ZipFile('data.zip') as data:\n",
    "\n",
    "    # Region\n",
    "    with data.open('region.tbl') as region:\n",
    "        reader = csv.reader(io.TextIOWrapper(region, 'utf-8'), delimiter='|')\n",
    "        for row in reader:\n",
    "            r_regionkey = int(row[0])\n",
    "            r_name = row[1]\n",
    "            r_comment = row[2]\n",
    "\n",
    "            cur.execute(\n",
    "                \"INSERT INTO Region (r_regionkey, r_name, r_comment) VALUES (?, ?, ?);\",\n",
    "                (r_regionkey, r_name, r_comment)\n",
    "            )\n",
    "    \n",
    "    # Nation\n",
    "    with data.open('nation.tbl') as nation:\n",
    "        reader = csv.reader(io.TextIOWrapper(nation, 'utf-8'), delimiter='|')\n",
    "        for row in reader:\n",
    "            n_nationkey = int(row[0])\n",
    "            n_name = row[1]\n",
    "            n_regionkey = int(row[2])\n",
    "            n_comment = row[3]\n",
    "\n",
    "            cur.execute(\n",
    "                \"INSERT INTO Nation (n_nationkey, n_name, n_regionkey, n_comment) VALUES (?, ?, ?, ?);\",\n",
    "                (n_nationkey, n_name, n_regionkey, n_comment),\n",
    "            )\n",
    "\n",
    "    # Part\n",
    "    with data.open('part.tbl') as part:\n",
    "        reader = csv.reader(io.TextIOWrapper(part, 'utf-8'), delimiter='|')\n",
    "        for row in reader:\n",
    "            p_partkey = int(row[0])\n",
    "            p_name = row[1]\n",
    "            p_mfgr = row[2]\n",
    "            p_brand = row[3]\n",
    "            p_type = row[4]\n",
    "            p_size = int(row[5])\n",
    "            p_container = row[6]\n",
    "            p_retailprice = float(row[7])\n",
    "            p_comment = row[8]\n",
    "\n",
    "            cur.execute(\n",
    "                \"\"\"\n",
    "                INSERT INTO Part (p_partkey, p_name, p_mfgr, p_brand, p_type, p_size, p_container, p_retailprice, p_comment)\n",
    "                VALUES (?, ?, ?, ?, ?, ?, ?, ?, ?);\n",
    "                \"\"\",\n",
    "                (p_partkey, p_name, p_mfgr, p_brand, p_type, p_size, p_container, p_retailprice, p_comment),\n",
    "            )\n",
    "    \n",
    "    # Customer\n",
    "    with data.open('customer.tbl') as customer:\n",
    "        reader = csv.reader(io.TextIOWrapper(customer, 'utf-8'), delimiter='|')\n",
    "        for row in reader:\n",
    "            c_custkey = int(row[0])\n",
    "            c_name = row[1]\n",
    "            c_address = row[2]\n",
    "            c_nationkey = int(row[3])\n",
    "            c_phone = row[4]\n",
    "            c_acctbal = float(row[5])\n",
    "            c_class = (\n",
    "                '5K AND ABOVE' if c_acctbal >= 5_000.00 else\n",
    "                '0 AND ABOVE' if c_acctbal >= 0.00 else\n",
    "                'LESS THAN 0'\n",
    "            )\n",
    "            c_mktsegment = row[6]\n",
    "            c_comment = row[7]\n",
    "\n",
    "            cur.execute(\n",
    "                \"\"\"\n",
    "                INSERT INTO Customer (c_custkey, c_name, c_address, c_nationkey, c_phone, c_acctbal, c_class, c_mktsegment, c_comment)\n",
    "                VALUES (?, ?, ?, ?, ?, ?, ?, ?, ?);\n",
    "                \"\"\",\n",
    "                (c_custkey, c_name, c_address, c_nationkey, c_phone, c_acctbal, c_class, c_mktsegment, c_comment),\n",
    "            )\n",
    "    \n",
    "    # Supplier\n",
    "    with data.open('supplier.tbl') as supplier:\n",
    "        reader = csv.reader(io.TextIOWrapper(supplier, 'utf-8'), delimiter='|')\n",
    "        for row in reader:\n",
    "            s_suppkey = int(row[0])\n",
    "            s_name = row[1]\n",
    "            s_address = row[2]\n",
    "            s_nationkey = int(row[3])\n",
    "            s_phone = row[4]\n",
    "            s_acctbal = float(row[5])\n",
    "            s_comment = row[6]\n",
    "            \n",
    "            cur.execute(\n",
    "                \"\"\"\n",
    "                INSERT INTO Supplier (s_suppkey, s_name, s_address, s_nationkey, s_phone, s_acctbal, s_comment)\n",
    "                VALUES (?, ?, ?, ?, ?, ?, ?);\n",
    "                \"\"\",\n",
    "                (s_suppkey, s_name, s_address, s_nationkey, s_phone, s_acctbal, s_comment),\n",
    "            )\n",
    "\n",
    "    # Orders\n",
    "    with data.open('orders.tbl') as orders:\n",
    "        reader = csv.reader(io.TextIOWrapper(orders, 'utf-8'), delimiter='|')\n",
    "        for row in reader:\n",
    "            o_orderkey = int(row[0])\n",
    "            o_custkey = int(row[1])\n",
    "            o_orderstatus = row[2]\n",
    "            o_totalprice = float(row[3])\n",
    "            o_orderdate = row[4]\n",
    "            o_orderpriority = row[5]\n",
    "            o_clerk = row[6]\n",
    "            o_shippriority = int(row[7])\n",
    "            o_comment = row[8]\n",
    "\n",
    "            cur.execute(\n",
    "                \"\"\"\n",
    "                INSERT INTO Orders (o_orderkey, o_custkey, o_orderstatus, o_totalprice, o_orderdate, o_orderpriority, o_clerk, o_shippriority, o_comment)\n",
    "                VALUES (?, ?, ?, ?, ?, ?, ?, ?, ?);\n",
    "                \"\"\",\n",
    "                (o_orderkey, o_custkey, o_orderstatus, o_totalprice, o_orderdate, o_orderpriority, o_clerk, o_shippriority, o_comment)\n",
    "            )\n",
    "\n",
    "    # Partsupp\n",
    "    with data.open('partsupp.tbl') as partsupp:\n",
    "        reader = csv.reader(io.TextIOWrapper(partsupp, 'utf-8'), delimiter='|')\n",
    "        for row in reader:\n",
    "            ps_partkey = int(row[0])\n",
    "            ps_suppkey = int(row[1])\n",
    "            ps_availqty = int(row[2])\n",
    "            ps_supplycost = float(row[3])\n",
    "            ps_comment = row[4]\n",
    "\n",
    "            cur.execute(\n",
    "                \"\"\"\n",
    "                INSERT INTO Partsupp (ps_partkey, ps_suppkey, ps_availqty, ps_supplycost, ps_comment)\n",
    "                VALUES (?, ?, ?, ?, ?);\n",
    "                \"\"\",\n",
    "                (ps_partkey, ps_suppkey, ps_availqty, ps_supplycost, ps_comment)\n",
    "            )\n",
    "\n",
    "    # Lineitem\n",
    "    with data.open('lineitem.tbl') as lineitem:\n",
    "        reader = csv.reader(io.TextIOWrapper(lineitem, 'utf-8'), delimiter='|')\n",
    "        for row in reader:\n",
    "            l_id = int(row[0])\n",
    "            l_orderkey = int(row[1])\n",
    "            l_ps_id = int(row[2])\n",
    "            l_linenumber = int(row[3])\n",
    "            l_quantity = int(row[4])\n",
    "            l_extendedprice = float(row[5])\n",
    "            l_discount = float(row[6])\n",
    "            l_tax = float(row[7])\n",
    "            l_revenue = round((l_extendedprice - (l_extendedprice * l_discount) + (l_extendedprice * l_tax)) * l_quantity, 2)\n",
    "            l_returnflag = row[8]\n",
    "            l_linestatus = row[9]\n",
    "            l_shipdate = row[10]\n",
    "            l_commitdate = row[11]\n",
    "            l_receiptdate = row[12]\n",
    "            l_shipinstruct = row[13]\n",
    "            l_shipmode = row[14]\n",
    "            l_comment = row[15]\n",
    "\n",
    "            cur.execute(\n",
    "                \"\"\"\n",
    "                INSERT INTO Lineitem (l_id, l_orderkey, l_ps_id, l_linenumber, l_quantity, l_extendedprice, l_discount, l_tax, l_revenue, l_returnflag, l_linestatus, l_shipdate, l_commitdate, l_receiptdate, l_shipinstruct, l_shipmode, l_comment)\n",
    "                VALUES (?, ?, ?, ?, ?, ?, ?, ?, ?, ?, ?, ?, ?, ?, ?, ?, ?);\n",
    "                \"\"\",\n",
    "                (l_id, l_orderkey, l_ps_id, l_linenumber, l_quantity, l_extendedprice, l_discount, l_tax, l_revenue, l_returnflag, l_linestatus, l_shipdate, l_commitdate, l_receiptdate, l_shipinstruct, l_shipmode, l_comment,)\n",
    "            )"
   ]
  },
  {
   "cell_type": "markdown",
   "metadata": {},
   "source": [
    "<br>"
   ]
  },
  {
   "cell_type": "markdown",
   "metadata": {},
   "source": [
    "## Reporting the results\n",
    "\n",
    "#### 1. What are the top 5 nations in terms of revenue?\n",
    "\n",
    "Throughout the report, `Orders.o_totalprice` is assumed to be the revenue column."
   ]
  },
  {
   "cell_type": "code",
   "execution_count": 121,
   "metadata": {},
   "outputs": [
    {
     "name": "stdout",
     "output_type": "stream",
     "text": [
      "Rank\tNation\tRevenue\n",
      "1\tCANADA\t109,618,039.26\n",
      "2\tEGYPT\t106,410,120.38\n",
      "3\tIRAN\t104,237,947.76\n",
      "4\tBRAZIL\t98,202,854.19\n",
      "5\tALGERIA\t97,421,274.73\n"
     ]
    }
   ],
   "source": [
    "# Get the list of all nations\n",
    "nations = cur.execute(\"SELECT DISTINCT n_name FROM Nation;\").fetchall()\n",
    "nations = [nation[0] for nation in nations]\n",
    "\n",
    "# Compute for the total revenue for each nation\n",
    "revenues = []\n",
    "for nation in nations:\n",
    "    revenue = cur.execute(\n",
    "        \"\"\"\n",
    "        SELECT Nation.n_name, ROUND(SUM(Orders.o_totalprice), 2)\n",
    "        FROM Orders, Customer, Nation\n",
    "        WHERE Orders.o_custkey = Customer.c_custkey AND\n",
    "            Customer.c_nationkey = Nation.n_nationkey AND\n",
    "            Nation.n_name = ?;\n",
    "        \"\"\",\n",
    "        (nation,)\n",
    "    ).fetchall()\n",
    "    revenues.append(revenue[0])\n",
    "\n",
    "# Sort the nations by total revenue in descending order\n",
    "revenues.sort(key=lambda x: x[1], reverse=True)\n",
    "\n",
    "# Get the top 5 nations in terms of revenue\n",
    "print('Rank\\tNation\\tRevenue')\n",
    "for rank, (nation, revenue) in enumerate(revenues[:5]):\n",
    "    print(f\"{rank + 1}\\t{nation}\\t{revenue:,}\")\n"
   ]
  },
  {
   "cell_type": "markdown",
   "metadata": {},
   "source": [
    "The top 5 nations in terms of revenue are Canada, Egypt, Iran, Brazil, and Algeria."
   ]
  },
  {
   "cell_type": "markdown",
   "metadata": {},
   "source": [
    "<br>"
   ]
  },
  {
   "cell_type": "markdown",
   "metadata": {},
   "source": [
    "#### 2. From the top 5 nations, what is the most common shipping mode?"
   ]
  },
  {
   "cell_type": "code",
   "execution_count": 122,
   "metadata": {},
   "outputs": [
    {
     "name": "stdout",
     "output_type": "stream",
     "text": [
      "Rank\tShipping Mode\tCount\n",
      "1\tTRUCK\t\t43,550\n",
      "2\tMAIL\t\t43,345\n",
      "3\tFOB\t\t43,205\n",
      "4\tREG AIR\t\t43,080\n",
      "5\tRAIL\t\t42,830\n",
      "6\tAIR\t\t42,455\n",
      "7\tSHIP\t\t42,410\n"
     ]
    }
   ],
   "source": [
    "# Top 5 nations in terms of revenue\n",
    "nations = [nation[0] for nation in revenues[:5]]\n",
    "\n",
    "# Get the list of unique shipping modes\n",
    "shipping_modes = cur.execute(\"select distinct l_shipmode from Lineitem;\").fetchall()\n",
    "shipping_modes = [mode[0] for mode in shipping_modes]\n",
    "\n",
    "# Get the frequence of shipping modes in the top 5 nations\n",
    "shipping_mode_count = []\n",
    "for mode in shipping_modes:\n",
    "    count = cur.execute(\n",
    "        \"\"\"\n",
    "        SELECT Lineitem.l_shipmode, COUNT(Lineitem.l_shipmode)\n",
    "        FROM Lineitem, Nation\n",
    "        WHERE Lineitem.l_shipmode = ? AND\n",
    "            Nation.n_name IN (?, ?, ?, ?, ?);\n",
    "        \"\"\",\n",
    "        (mode, nations[0], nations[1], nations[2], nations[3], nations[4])\n",
    "    ).fetchall()\n",
    "    shipping_mode_count.append(count[0])\n",
    "\n",
    "# Sort the shipping modes by count in descending order\n",
    "shipping_mode_count.sort(key=lambda x: x[1], reverse=True)\n",
    "\n",
    "# Print the results\n",
    "print('Rank\\tShipping Mode\\tCount')\n",
    "for rank, (mode, count) in enumerate(shipping_mode_count):\n",
    "    print(f\"{rank + 1}\\t{mode}\\t\\t{count:,}\")\n",
    "\n"
   ]
  },
  {
   "cell_type": "markdown",
   "metadata": {},
   "source": [
    "The most common shipping mode is truck."
   ]
  },
  {
   "cell_type": "markdown",
   "metadata": {},
   "source": [
    "<br>"
   ]
  },
  {
   "cell_type": "markdown",
   "metadata": {},
   "source": [
    "#### 3. What are the top selling months?"
   ]
  },
  {
   "cell_type": "code",
   "execution_count": 123,
   "metadata": {},
   "outputs": [
    {
     "name": "stdout",
     "output_type": "stream",
     "text": [
      "Rank\tMonth\tRevenue\n",
      "1\t05\t194,423,025.45\n",
      "2\t03\t191,112,208.41\n",
      "3\t01\t188,111,820.23\n",
      "4\t07\t185,564,589.11\n",
      "5\t04\t184,443,340.92\n"
     ]
    }
   ],
   "source": [
    "months = [f\"{month:02}\" for month in range(1, 13)]\n",
    "\n",
    "revenues = []\n",
    "for month in months:\n",
    "    revenue = cur.execute(\n",
    "        \"\"\"\n",
    "        SELECT strftime('%m', o_orderdate) as month, SUM(o_totalprice)\n",
    "        FROM Orders\n",
    "        WHERE month = ?;\n",
    "        \"\"\",\n",
    "        (month,)\n",
    "    ).fetchall()\n",
    "    revenues.append(revenue[0])\n",
    "\n",
    "# Sort the months by revenue in descending order\n",
    "revenues.sort(key=lambda x: x[1], reverse=True)\n",
    "\n",
    "# Print the results\n",
    "print('Rank\\tMonth\\tRevenue')\n",
    "for rank, (month, revenue) in enumerate(revenues[:5]):\n",
    "    print(f\"{rank + 1}\\t{month}\\t{round(revenue, 2):,}\")\n",
    "    "
   ]
  },
  {
   "cell_type": "markdown",
   "metadata": {},
   "source": [
    "The top selling months are May, March, January, July, and April."
   ]
  },
  {
   "cell_type": "markdown",
   "metadata": {},
   "source": [
    "<br>"
   ]
  },
  {
   "cell_type": "markdown",
   "metadata": {},
   "source": [
    "#### 4.\tWho is the top customer in terms of revenue and/or quantity?"
   ]
  },
  {
   "cell_type": "markdown",
   "metadata": {},
   "source": [
    "##### By Revenue"
   ]
  },
  {
   "cell_type": "code",
   "execution_count": 124,
   "metadata": {},
   "outputs": [
    {
     "name": "stdout",
     "output_type": "stream",
     "text": [
      "Top 5 customers by revenue\n",
      "Rank\tCustomer\tRevenue\n",
      "1\t1489\t\t5,408,941.28\n",
      "2\t214\t\t4,674,894.73\n",
      "3\t1396\t\t4,644,936.89\n",
      "4\t1246\t\t4,642,942.33\n",
      "5\t73\t\t4,638,819.21\n"
     ]
    }
   ],
   "source": [
    "# Get the list of unique customers\n",
    "customers = cur.execute(\"select distinct c_custkey from customer;\").fetchall()\n",
    "customers = [customer[0] for customer in customers]\n",
    "\n",
    "# Compute for the total revenues for each customer\n",
    "revenues = []\n",
    "for customer in customers:\n",
    "    revenue = cur.execute(\n",
    "        \"\"\"\n",
    "        SELECT Customer.c_custkey, SUM(Orders.o_totalprice)\n",
    "        FROM Orders, Customer\n",
    "        WHERE Customer.c_custkey = ? AND\n",
    "            Customer.c_custkey = Orders.o_custkey;\n",
    "        \"\"\",\n",
    "        (customer,)\n",
    "    ).fetchall()\n",
    "    revenues.append(revenue[0])\n",
    "\n",
    "# Ignore the NoneType values\n",
    "revenues = [revenue for revenue in revenues if revenue[0] is not None or revenue[1] is not None]\n",
    "\n",
    "# Sort the customers by total revenue in descending order\n",
    "revenues.sort(key=lambda x: x[1], reverse=True)\n",
    "\n",
    "# Get the top 5 customers in terms of revenue\n",
    "print(\"Top 5 customers by revenue\")\n",
    "print('Rank\\tCustomer\\tRevenue')\n",
    "for rank, (customer, revenue) in enumerate(revenues[:5]):\n",
    "    print(f\"{rank + 1}\\t{customer}\\t\\t{round(revenue, 2):,}\")"
   ]
  },
  {
   "cell_type": "markdown",
   "metadata": {},
   "source": [
    "In terms of revenue, the top customer is Customer#1489."
   ]
  },
  {
   "cell_type": "markdown",
   "metadata": {},
   "source": [
    "<br>"
   ]
  },
  {
   "cell_type": "markdown",
   "metadata": {},
   "source": [
    "##### By Quantity"
   ]
  },
  {
   "cell_type": "code",
   "execution_count": 125,
   "metadata": {},
   "outputs": [
    {
     "name": "stdout",
     "output_type": "stream",
     "text": [
      "Top 5 customers by quantity\n",
      "Rank\tCustomer\tQuantity\n",
      "1\t1027\t\t3,453\n",
      "2\t685\t\t3,399\n",
      "3\t392\t\t2,719\n",
      "4\t649\t\t2,717\n",
      "5\t1196\t\t2,665\n"
     ]
    }
   ],
   "source": [
    "# Compute for the total quantity for each customer\n",
    "quantities = []\n",
    "for customer in customers:\n",
    "    quantity = cur.execute(\n",
    "        \"\"\"\n",
    "        SELECT Customer.c_custkey, SUM(Lineitem.l_quantity)\n",
    "        FROM Lineitem, Orders, Customer\n",
    "        WHERE Customer.c_custkey = ? AND\n",
    "            Customer.c_custkey = Orders.o_custkey AND\n",
    "            Orders.o_orderkey = Lineitem.l_orderkey;\n",
    "        \"\"\",\n",
    "        (customer,)\n",
    "    ).fetchall()\n",
    "    quantities.append(quantity[0])\n",
    "\n",
    "# Ignore the NoneType values\n",
    "quantities = [quantity for quantity in quantities if quantity[0] is not None or quantity[1] is not None]\n",
    "\n",
    "# Sort the customers by total revenue in descending order\n",
    "quantities.sort(key=lambda x: x[1], reverse=True)\n",
    "\n",
    "# Get the top 5 customers in terms of Quantity\n",
    "print(\"Top 5 customers by quantity\")\n",
    "print('Rank\\tCustomer\\tQuantity')\n",
    "for rank, (customer, quantity) in enumerate(quantities[:5]):\n",
    "    print(f\"{rank + 1}\\t{customer}\\t\\t{quantity:,}\")"
   ]
  },
  {
   "cell_type": "markdown",
   "metadata": {},
   "source": [
    "In terms of quantity, the top customer is Customer#1027."
   ]
  },
  {
   "cell_type": "markdown",
   "metadata": {},
   "source": [
    "<br>"
   ]
  },
  {
   "cell_type": "markdown",
   "metadata": {},
   "source": [
    "#### 5.\tCompare the sales revenue during current period against those during the previous period.\n",
    "\n",
    "Because 1998 was the latest year in the data, it was assumed to be the current period."
   ]
  },
  {
   "cell_type": "code",
   "execution_count": 126,
   "metadata": {},
   "outputs": [
    {
     "name": "stdout",
     "output_type": "stream",
     "text": [
      "Revenues in 1998: 187,332,505.06\n",
      "Revenues in 1997: 320,228,729.28\n",
      "\n",
      "Revenues in 1998 was 58.50% of those in 1997\n"
     ]
    }
   ],
   "source": [
    "current_period = cur.execute(\n",
    "    \"\"\"\n",
    "    SELECT strftime('%Y', o_orderdate)\n",
    "    FROM Orders\n",
    "    ORDER BY strftime('%Y', o_orderdate) DESC\n",
    "    LIMIT 1;\n",
    "    \"\"\"\n",
    ").fetchall()[0][0]\n",
    "\n",
    "current_period = int(current_period)\n",
    "\n",
    "revenue_previous_period = cur.execute(\n",
    "    \"\"\"\n",
    "    SELECT SUM(o_totalprice)\n",
    "    FROM Orders\n",
    "    WHERE strftime('%Y', o_orderdate) = ?;\n",
    "    \"\"\",\n",
    "    (str(current_period - 1),)\n",
    "    ).fetchall()[0][0]\n",
    "\n",
    "revenue_this_period = cur.execute(\n",
    "    \"\"\"\n",
    "    SELECT SUM(o_totalprice)\n",
    "    FROM Orders\n",
    "    WHERE strftime('%Y', o_orderdate) = ?;\n",
    "    \"\"\",\n",
    "    (str(current_period),)\n",
    "    ).fetchall()[0][0]\n",
    "\n",
    "print(f\"Revenues in {current_period}: {round(revenue_this_period, 2):,}\")\n",
    "print(f\"Revenues in {current_period - 1}: {round(revenue_previous_period, 2):,}\")\n",
    "print()\n",
    "print(f\"Revenues in 1998 was {revenue_this_period / revenue_previous_period * 100:.2f}% of those in 1997\")"
   ]
  },
  {
   "cell_type": "markdown",
   "metadata": {},
   "source": [
    "<br>"
   ]
  },
  {
   "cell_type": "markdown",
   "metadata": {},
   "source": [
    "## Saving changes and closing the database"
   ]
  },
  {
   "cell_type": "code",
   "execution_count": 127,
   "metadata": {},
   "outputs": [],
   "source": [
    "con.commit()\n",
    "con.close()"
   ]
  }
 ],
 "metadata": {
  "interpreter": {
   "hash": "5e02d0efff813a9368c354e505ea65821711dca306094a6f79d155d3e22f7a88"
  },
  "kernelspec": {
   "display_name": "Python 3.8.10 64-bit",
   "name": "python3"
  },
  "language_info": {
   "codemirror_mode": {
    "name": "ipython",
    "version": 3
   },
   "file_extension": ".py",
   "mimetype": "text/x-python",
   "name": "python",
   "nbconvert_exporter": "python",
   "pygments_lexer": "ipython3",
   "version": "3.8.10"
  },
  "orig_nbformat": 4
 },
 "nbformat": 4,
 "nbformat_minor": 2
}
